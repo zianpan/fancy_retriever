{
 "cells": [
  {
   "cell_type": "code",
   "execution_count": 2,
   "metadata": {},
   "outputs": [
    {
     "name": "stderr",
     "output_type": "stream",
     "text": [
      "/home/ubuntu/miniconda3/envs/ret/lib/python3.6/site-packages/tqdm/auto.py:22: TqdmWarning: IProgress not found. Please update jupyter and ipywidgets. See https://ipywidgets.readthedocs.io/en/stable/user_install.html\n",
      "  from .autonotebook import tqdm as notebook_tqdm\n"
     ]
    },
    {
     "name": "stdout",
     "output_type": "stream",
     "text": [
      "10.2\n",
      "Tesla T4\n"
     ]
    }
   ],
   "source": [
    "import torch\n",
    "print(torch.version.cuda)\n",
    "print(torch.cuda.get_device_name(0))"
   ]
  },
  {
   "cell_type": "markdown",
   "metadata": {},
   "source": []
  },
  {
   "cell_type": "code",
   "execution_count": 2,
   "metadata": {},
   "outputs": [],
   "source": [
    "# from datasets import load_dataset\n",
    "\n",
    "# ds = load_dataset(\"sentence-transformers/codesearchnet\")"
   ]
  },
  {
   "cell_type": "code",
   "execution_count": 3,
   "metadata": {},
   "outputs": [],
   "source": [
    "# ds[\"train\"].select(range(100)).to_json(\"/mnt/new_volume/codesearchnet/sentence_codesearchnet_train_sub100.jsonl\")"
   ]
  },
  {
   "cell_type": "code",
   "execution_count": 4,
   "metadata": {},
   "outputs": [],
   "source": [
    "# ds_train = ds[\"train\"]\n",
    "# ds_train.to_json(\"/mnt/new_volume/codesearchnet/codesearchnet_train.jsonl\")"
   ]
  },
  {
   "cell_type": "code",
   "execution_count": 5,
   "metadata": {},
   "outputs": [],
   "source": [
    "# ds_train.to_json(\"/mnt/new_volume/codesearchnet/codesearchnet_train.jsonl\")"
   ]
  },
  {
   "cell_type": "code",
   "execution_count": 6,
   "metadata": {},
   "outputs": [],
   "source": [
    "# def is_valid_json(row):\n",
    "#     try:\n",
    "#         _ = json.dumps(row)\n",
    "#         return True\n",
    "#     except Exception:\n",
    "#         return False\n",
    "\n",
    "# # Apply filtering to the dataset\n",
    "# cleaned_dataset = ds_train.filter(is_valid_json)\n",
    "\n",
    "# # Save only valid examples\n",
    "# cleaned_dataset.to_json(\"/mnt/new_volume/codesearchnet/codesearchnet_cleaned.jsonl\")\n"
   ]
  },
  {
   "cell_type": "code",
   "execution_count": 1,
   "metadata": {},
   "outputs": [
    {
     "name": "stderr",
     "output_type": "stream",
     "text": [
      "/home/ubuntu/miniconda3/lib/python3.12/site-packages/tqdm/auto.py:21: TqdmWarning: IProgress not found. Please update jupyter and ipywidgets. See https://ipywidgets.readthedocs.io/en/stable/user_install.html\n",
      "  from .autonotebook import tqdm as notebook_tqdm\n"
     ]
    }
   ],
   "source": [
    "from datasets import load_dataset\n",
    "\n",
    "# ds = load_dataset(\"code-search-net/code_search_net\", \"python\", trust_remote_code=True)\n",
    "ds = load_dataset(\"code_search_net\", \"python\")\n"
   ]
  },
  {
   "cell_type": "code",
   "execution_count": 2,
   "metadata": {},
   "outputs": [],
   "source": [
    "def is_valid_row(row):\n",
    "    if row['func_documentation_string'] != 'Auto Generated Code':\n",
    "        return True\n",
    "    else:\n",
    "        return False"
   ]
  },
  {
   "cell_type": "code",
   "execution_count": 3,
   "metadata": {},
   "outputs": [],
   "source": [
    "# ds_train_clean = ds[\"train\"].filter(is_valid_row)\n",
    "ds_validation_clean = ds[\"validation\"].filter(is_valid_row)\n",
    "ds_test_clean = ds[\"test\"].filter(is_valid_row)"
   ]
  },
  {
   "cell_type": "code",
   "execution_count": 4,
   "metadata": {},
   "outputs": [
    {
     "data": {
      "text/plain": [
       "Dataset({\n",
       "    features: ['repository_name', 'func_path_in_repository', 'func_name', 'whole_func_string', 'language', 'func_code_string', 'func_code_tokens', 'func_documentation_string', 'func_documentation_tokens', 'split_name', 'func_code_url'],\n",
       "    num_rows: 23107\n",
       "})"
      ]
     },
     "execution_count": 4,
     "metadata": {},
     "output_type": "execute_result"
    }
   ],
   "source": [
    "ds_validation_clean"
   ]
  },
  {
   "cell_type": "code",
   "execution_count": null,
   "metadata": {},
   "outputs": [],
   "source": [
    "import math\n",
    "\n",
    "# 总行数\n",
    "total_rows = len(ds_validation_clean)\n",
    "chunk_size = 1000\n",
    "num_chunks = math.ceil(total_rows / chunk_size)\n",
    "\n",
    "# 保存路径前缀（可以根据需要改）\n",
    "output_prefix = \"ds_validation_clean_chunk\"\n",
    "\n",
    "# 分块并保存\n",
    "for i in range(num_chunks):\n",
    "    start = i * chunk_size\n",
    "    end = min(start + chunk_size, total_rows)\n",
    "    chunk = ds_validation_clean.select(range(start, end))\n",
    "    \n",
    "    filename = f\"/mnt/new_volume/codesearchnet/{output_prefix}_{i+1}.jsonl\"\n",
    "    chunk.to_json(filename, lines=True)\n",
    "    print(f\"Saved {filename} with {len(chunk)} records.\")\n"
   ]
  },
  {
   "cell_type": "code",
   "execution_count": 10,
   "metadata": {},
   "outputs": [
    {
     "name": "stderr",
     "output_type": "stream",
     "text": [
      "Creating json from Arrow format: 100%|██████████| 24/24 [00:01<00:00, 15.64ba/s]\n",
      "Creating json from Arrow format: 100%|██████████| 23/23 [00:01<00:00, 17.20ba/s]\n"
     ]
    },
    {
     "data": {
      "text/plain": [
       "88153494"
      ]
     },
     "execution_count": 10,
     "metadata": {},
     "output_type": "execute_result"
    }
   ],
   "source": [
    "# ds_train_clean.to_json(\"/mnt/new_volume/codesearchnet/codesearchnet_train_filtered_full.jsonl\")\n",
    "ds_validation_clean.to_json(\"/mnt/new_volume/codesearchnet/codesearchnet_validation_filtered_full.jsonl\")\n",
    "ds_test_clean.to_json(\"/mnt/new_volume/codesearchnet/codesearchnet_test_filtered_full.jsonl\")"
   ]
  },
  {
   "cell_type": "code",
   "execution_count": null,
   "metadata": {},
   "outputs": [],
   "source": []
  },
  {
   "cell_type": "code",
   "execution_count": 8,
   "metadata": {},
   "outputs": [
    {
     "name": "stderr",
     "output_type": "stream",
     "text": [
      "Creating json from Arrow format: 100%|██████████| 1/1 [00:00<00:00, 66.00ba/s]\n"
     ]
    },
    {
     "data": {
      "text/plain": [
       "624708"
      ]
     },
     "execution_count": 8,
     "metadata": {},
     "output_type": "execute_result"
    }
   ],
   "source": [
    "ds_train_clean.select(range(200)).to_json(\"/mnt/new_volume/codesearchnet/codesearchnet_train_filtered_sub200.jsonl\")"
   ]
  },
  {
   "cell_type": "code",
   "execution_count": 10,
   "metadata": {},
   "outputs": [
    {
     "data": {
      "text/plain": [
       "dict_keys(['repository_name', 'func_path_in_repository', 'func_name', 'whole_func_string', 'language', 'func_code_string', 'func_code_tokens', 'func_documentation_string', 'func_documentation_tokens', 'split_name', 'func_code_url'])"
      ]
     },
     "execution_count": 10,
     "metadata": {},
     "output_type": "execute_result"
    }
   ],
   "source": [
    "ds_train_clean[0].keys()"
   ]
  },
  {
   "cell_type": "code",
   "execution_count": null,
   "metadata": {},
   "outputs": [
    {
     "name": "stderr",
     "output_type": "stream",
     "text": [
      "Creating json from Arrow format:   0%|          | 0/24 [00:00<?, ?ba/s]"
     ]
    },
    {
     "name": "stderr",
     "output_type": "stream",
     "text": [
      "Creating json from Arrow format: 100%|██████████| 24/24 [00:01<00:00, 20.06ba/s]\n",
      "Creating json from Arrow format: 100%|██████████| 23/23 [00:01<00:00, 20.74ba/s]\n"
     ]
    },
    {
     "data": {
      "text/plain": [
       "88153494"
      ]
     },
     "execution_count": 31,
     "metadata": {},
     "output_type": "execute_result"
    }
   ],
   "source": [
    "# ds['train'].to_json(\"/mnt/new_volume/codesearchnet/codesearchnet_train.jsonl\")\n",
    "# ds['validation'].to_json(\"/mnt/new_volume/codesearchnet/codesearchnet_validation.jsonl\")\n",
    "# ds['test'].to_json(\"/mnt/new_volume/codesearchnet/codesearchnet_test.jsonl\")"
   ]
  },
  {
   "cell_type": "code",
   "execution_count": 7,
   "metadata": {},
   "outputs": [
    {
     "name": "stderr",
     "output_type": "stream",
     "text": [
      "Creating json from Arrow format: 100%|██████████| 1/1 [00:00<00:00, 35.77ba/s]\n"
     ]
    },
    {
     "data": {
      "text/plain": [
       "526405"
      ]
     },
     "execution_count": 7,
     "metadata": {},
     "output_type": "execute_result"
    }
   ],
   "source": [
    "ds['train'].select(range(200)).to_json(\"/mnt/new_volume/codesearchnet/codesearchnet_train_sub200.jsonl\")"
   ]
  },
  {
   "cell_type": "code",
   "execution_count": 1,
   "metadata": {},
   "outputs": [
    {
     "ename": "NameError",
     "evalue": "name 'ds' is not defined",
     "output_type": "error",
     "traceback": [
      "\u001b[31m---------------------------------------------------------------------------\u001b[39m",
      "\u001b[31mNameError\u001b[39m                                 Traceback (most recent call last)",
      "\u001b[36mCell\u001b[39m\u001b[36m \u001b[39m\u001b[32mIn[1]\u001b[39m\u001b[32m, line 1\u001b[39m\n\u001b[32m----> \u001b[39m\u001b[32m1\u001b[39m \u001b[43mds\u001b[49m[\u001b[33m'\u001b[39m\u001b[33mtest\u001b[39m\u001b[33m'\u001b[39m]\n",
      "\u001b[31mNameError\u001b[39m: name 'ds' is not defined"
     ]
    }
   ],
   "source": [
    "ds['test']"
   ]
  },
  {
   "cell_type": "code",
   "execution_count": null,
   "metadata": {},
   "outputs": [],
   "source": []
  },
  {
   "cell_type": "code",
   "execution_count": null,
   "metadata": {},
   "outputs": [],
   "source": [
    "ds['train'].to_json(\"/mnt/new_volume/codesearchnet/codesearchnet_train.jsonl\")\n"
   ]
  },
  {
   "cell_type": "code",
   "execution_count": 8,
   "metadata": {},
   "outputs": [
    {
     "name": "stderr",
     "output_type": "stream",
     "text": [
      "Creating json from Arrow format: 100%|██████████| 413/413 [00:09<00:00, 45.31ba/s]\n"
     ]
    },
    {
     "data": {
      "text/plain": [
       "1186733155"
      ]
     },
     "execution_count": 8,
     "metadata": {},
     "output_type": "execute_result"
    }
   ],
   "source": [
    "ds_train = ds[\"train\"]\n",
    "ds_train.to_json(\"/mnt/new_volume/codesearchnet/codesearchnet_train2.jsonl\")"
   ]
  },
  {
   "cell_type": "code",
   "execution_count": 1,
   "metadata": {},
   "outputs": [],
   "source": [
    "import pandas as pd\n",
    "\n",
    "# df = pd.read_json(\"/mnt/new_volume/codesearchnet/.jsonl\", lines=True)\n",
    "# \"/mnt/new_volume/codesearchnet/codesearchnet_train_sub200.jsonl\"\n",
    "df = pd.read_json(\"/mnt/new_volume/codesearchnet/codesearchnet_train_sub200.jsonl\", lines=True)\n"
   ]
  },
  {
   "cell_type": "code",
   "execution_count": 2,
   "metadata": {},
   "outputs": [
    {
     "data": {
      "text/html": [
       "<div>\n",
       "<style scoped>\n",
       "    .dataframe tbody tr th:only-of-type {\n",
       "        vertical-align: middle;\n",
       "    }\n",
       "\n",
       "    .dataframe tbody tr th {\n",
       "        vertical-align: top;\n",
       "    }\n",
       "\n",
       "    .dataframe thead th {\n",
       "        text-align: right;\n",
       "    }\n",
       "</style>\n",
       "<table border=\"1\" class=\"dataframe\">\n",
       "  <thead>\n",
       "    <tr style=\"text-align: right;\">\n",
       "      <th></th>\n",
       "      <th>repository_name</th>\n",
       "      <th>func_path_in_repository</th>\n",
       "      <th>func_name</th>\n",
       "      <th>whole_func_string</th>\n",
       "      <th>language</th>\n",
       "      <th>func_code_string</th>\n",
       "      <th>func_code_tokens</th>\n",
       "      <th>func_documentation_string</th>\n",
       "      <th>func_documentation_tokens</th>\n",
       "      <th>split_name</th>\n",
       "      <th>func_code_url</th>\n",
       "    </tr>\n",
       "  </thead>\n",
       "  <tbody>\n",
       "    <tr>\n",
       "      <th>0</th>\n",
       "      <td>brocade/pynos</td>\n",
       "      <td>pynos/versions/ver_6/ver_6_0_1/yang/brocade_cl...</td>\n",
       "      <td>brocade_clock.show_clock_output_clock_time_tim...</td>\n",
       "      <td>def show_clock_output_clock_time_timezone(self...</td>\n",
       "      <td>python</td>\n",
       "      <td>def show_clock_output_clock_time_timezone(self...</td>\n",
       "      <td>[def, show_clock_output_clock_time_timezone, (...</td>\n",
       "      <td>Auto Generated Code</td>\n",
       "      <td>[Auto, Generated, Code]</td>\n",
       "      <td>train</td>\n",
       "      <td>https://github.com/brocade/pynos/blob/bd8a34e9...</td>\n",
       "    </tr>\n",
       "    <tr>\n",
       "      <th>1</th>\n",
       "      <td>brocade/pynos</td>\n",
       "      <td>pynos/versions/ver_6/ver_6_0_1/yang/brocade_sy...</td>\n",
       "      <td>brocade_system.get_system_uptime_input_rbridge_id</td>\n",
       "      <td>def get_system_uptime_input_rbridge_id(self, *...</td>\n",
       "      <td>python</td>\n",
       "      <td>def get_system_uptime_input_rbridge_id(self, *...</td>\n",
       "      <td>[def, get_system_uptime_input_rbridge_id, (, s...</td>\n",
       "      <td>Auto Generated Code</td>\n",
       "      <td>[Auto, Generated, Code]</td>\n",
       "      <td>train</td>\n",
       "      <td>https://github.com/brocade/pynos/blob/bd8a34e9...</td>\n",
       "    </tr>\n",
       "    <tr>\n",
       "      <th>2</th>\n",
       "      <td>brocade/pynos</td>\n",
       "      <td>pynos/versions/ver_6/ver_6_0_1/yang/brocade_sy...</td>\n",
       "      <td>brocade_system.get_system_uptime_output_show_s...</td>\n",
       "      <td>def get_system_uptime_output_show_system_uptim...</td>\n",
       "      <td>python</td>\n",
       "      <td>def get_system_uptime_output_show_system_uptim...</td>\n",
       "      <td>[def, get_system_uptime_output_show_system_upt...</td>\n",
       "      <td>Auto Generated Code</td>\n",
       "      <td>[Auto, Generated, Code]</td>\n",
       "      <td>train</td>\n",
       "      <td>https://github.com/brocade/pynos/blob/bd8a34e9...</td>\n",
       "    </tr>\n",
       "    <tr>\n",
       "      <th>3</th>\n",
       "      <td>brocade/pynos</td>\n",
       "      <td>pynos/versions/ver_6/ver_6_0_1/yang/brocade_sy...</td>\n",
       "      <td>brocade_system.get_system_uptime_output_show_s...</td>\n",
       "      <td>def get_system_uptime_output_show_system_uptim...</td>\n",
       "      <td>python</td>\n",
       "      <td>def get_system_uptime_output_show_system_uptim...</td>\n",
       "      <td>[def, get_system_uptime_output_show_system_upt...</td>\n",
       "      <td>Auto Generated Code</td>\n",
       "      <td>[Auto, Generated, Code]</td>\n",
       "      <td>train</td>\n",
       "      <td>https://github.com/brocade/pynos/blob/bd8a34e9...</td>\n",
       "    </tr>\n",
       "    <tr>\n",
       "      <th>4</th>\n",
       "      <td>brocade/pynos</td>\n",
       "      <td>pynos/versions/ver_6/ver_6_0_1/yang/brocade_sy...</td>\n",
       "      <td>brocade_system.get_system_uptime_output_show_s...</td>\n",
       "      <td>def get_system_uptime_output_show_system_uptim...</td>\n",
       "      <td>python</td>\n",
       "      <td>def get_system_uptime_output_show_system_uptim...</td>\n",
       "      <td>[def, get_system_uptime_output_show_system_upt...</td>\n",
       "      <td>Auto Generated Code</td>\n",
       "      <td>[Auto, Generated, Code]</td>\n",
       "      <td>train</td>\n",
       "      <td>https://github.com/brocade/pynos/blob/bd8a34e9...</td>\n",
       "    </tr>\n",
       "    <tr>\n",
       "      <th>...</th>\n",
       "      <td>...</td>\n",
       "      <td>...</td>\n",
       "      <td>...</td>\n",
       "      <td>...</td>\n",
       "      <td>...</td>\n",
       "      <td>...</td>\n",
       "      <td>...</td>\n",
       "      <td>...</td>\n",
       "      <td>...</td>\n",
       "      <td>...</td>\n",
       "      <td>...</td>\n",
       "    </tr>\n",
       "    <tr>\n",
       "      <th>195</th>\n",
       "      <td>brocade/pynos</td>\n",
       "      <td>pynos/versions/ver_7/ver_7_1_0/yang/brocade_vs...</td>\n",
       "      <td>brocade_vswitch.get_vnetwork_dvs_output_vnetwo...</td>\n",
       "      <td>def get_vnetwork_dvs_output_vnetwork_dvs_name(...</td>\n",
       "      <td>python</td>\n",
       "      <td>def get_vnetwork_dvs_output_vnetwork_dvs_name(...</td>\n",
       "      <td>[def, get_vnetwork_dvs_output_vnetwork_dvs_nam...</td>\n",
       "      <td>Auto Generated Code</td>\n",
       "      <td>[Auto, Generated, Code]</td>\n",
       "      <td>train</td>\n",
       "      <td>https://github.com/brocade/pynos/blob/bd8a34e9...</td>\n",
       "    </tr>\n",
       "    <tr>\n",
       "      <th>196</th>\n",
       "      <td>brocade/pynos</td>\n",
       "      <td>pynos/versions/ver_7/ver_7_1_0/yang/brocade_vs...</td>\n",
       "      <td>brocade_vswitch.get_vnetwork_dvs_output_vnetwo...</td>\n",
       "      <td>def get_vnetwork_dvs_output_vnetwork_dvs_host(...</td>\n",
       "      <td>python</td>\n",
       "      <td>def get_vnetwork_dvs_output_vnetwork_dvs_host(...</td>\n",
       "      <td>[def, get_vnetwork_dvs_output_vnetwork_dvs_hos...</td>\n",
       "      <td>Auto Generated Code</td>\n",
       "      <td>[Auto, Generated, Code]</td>\n",
       "      <td>train</td>\n",
       "      <td>https://github.com/brocade/pynos/blob/bd8a34e9...</td>\n",
       "    </tr>\n",
       "    <tr>\n",
       "      <th>197</th>\n",
       "      <td>brocade/pynos</td>\n",
       "      <td>pynos/versions/ver_7/ver_7_1_0/yang/brocade_vs...</td>\n",
       "      <td>brocade_vswitch.get_vnetwork_dvs_output_vnetwo...</td>\n",
       "      <td>def get_vnetwork_dvs_output_vnetwork_dvs_datac...</td>\n",
       "      <td>python</td>\n",
       "      <td>def get_vnetwork_dvs_output_vnetwork_dvs_datac...</td>\n",
       "      <td>[def, get_vnetwork_dvs_output_vnetwork_dvs_dat...</td>\n",
       "      <td>Auto Generated Code</td>\n",
       "      <td>[Auto, Generated, Code]</td>\n",
       "      <td>train</td>\n",
       "      <td>https://github.com/brocade/pynos/blob/bd8a34e9...</td>\n",
       "    </tr>\n",
       "    <tr>\n",
       "      <th>198</th>\n",
       "      <td>brocade/pynos</td>\n",
       "      <td>pynos/versions/ver_7/ver_7_1_0/yang/brocade_vs...</td>\n",
       "      <td>brocade_vswitch.get_vnetwork_dvs_output_vnetwo...</td>\n",
       "      <td>def get_vnetwork_dvs_output_vnetwork_dvs_pnic(...</td>\n",
       "      <td>python</td>\n",
       "      <td>def get_vnetwork_dvs_output_vnetwork_dvs_pnic(...</td>\n",
       "      <td>[def, get_vnetwork_dvs_output_vnetwork_dvs_pni...</td>\n",
       "      <td>Auto Generated Code</td>\n",
       "      <td>[Auto, Generated, Code]</td>\n",
       "      <td>train</td>\n",
       "      <td>https://github.com/brocade/pynos/blob/bd8a34e9...</td>\n",
       "    </tr>\n",
       "    <tr>\n",
       "      <th>199</th>\n",
       "      <td>brocade/pynos</td>\n",
       "      <td>pynos/versions/ver_7/ver_7_1_0/yang/brocade_vs...</td>\n",
       "      <td>brocade_vswitch.get_vnetwork_dvs_output_vnetwo...</td>\n",
       "      <td>def get_vnetwork_dvs_output_vnetwork_dvs_inter...</td>\n",
       "      <td>python</td>\n",
       "      <td>def get_vnetwork_dvs_output_vnetwork_dvs_inter...</td>\n",
       "      <td>[def, get_vnetwork_dvs_output_vnetwork_dvs_int...</td>\n",
       "      <td>Auto Generated Code</td>\n",
       "      <td>[Auto, Generated, Code]</td>\n",
       "      <td>train</td>\n",
       "      <td>https://github.com/brocade/pynos/blob/bd8a34e9...</td>\n",
       "    </tr>\n",
       "  </tbody>\n",
       "</table>\n",
       "<p>200 rows × 11 columns</p>\n",
       "</div>"
      ],
      "text/plain": [
       "    repository_name                            func_path_in_repository  \\\n",
       "0     brocade/pynos  pynos/versions/ver_6/ver_6_0_1/yang/brocade_cl...   \n",
       "1     brocade/pynos  pynos/versions/ver_6/ver_6_0_1/yang/brocade_sy...   \n",
       "2     brocade/pynos  pynos/versions/ver_6/ver_6_0_1/yang/brocade_sy...   \n",
       "3     brocade/pynos  pynos/versions/ver_6/ver_6_0_1/yang/brocade_sy...   \n",
       "4     brocade/pynos  pynos/versions/ver_6/ver_6_0_1/yang/brocade_sy...   \n",
       "..              ...                                                ...   \n",
       "195   brocade/pynos  pynos/versions/ver_7/ver_7_1_0/yang/brocade_vs...   \n",
       "196   brocade/pynos  pynos/versions/ver_7/ver_7_1_0/yang/brocade_vs...   \n",
       "197   brocade/pynos  pynos/versions/ver_7/ver_7_1_0/yang/brocade_vs...   \n",
       "198   brocade/pynos  pynos/versions/ver_7/ver_7_1_0/yang/brocade_vs...   \n",
       "199   brocade/pynos  pynos/versions/ver_7/ver_7_1_0/yang/brocade_vs...   \n",
       "\n",
       "                                             func_name  \\\n",
       "0    brocade_clock.show_clock_output_clock_time_tim...   \n",
       "1    brocade_system.get_system_uptime_input_rbridge_id   \n",
       "2    brocade_system.get_system_uptime_output_show_s...   \n",
       "3    brocade_system.get_system_uptime_output_show_s...   \n",
       "4    brocade_system.get_system_uptime_output_show_s...   \n",
       "..                                                 ...   \n",
       "195  brocade_vswitch.get_vnetwork_dvs_output_vnetwo...   \n",
       "196  brocade_vswitch.get_vnetwork_dvs_output_vnetwo...   \n",
       "197  brocade_vswitch.get_vnetwork_dvs_output_vnetwo...   \n",
       "198  brocade_vswitch.get_vnetwork_dvs_output_vnetwo...   \n",
       "199  brocade_vswitch.get_vnetwork_dvs_output_vnetwo...   \n",
       "\n",
       "                                     whole_func_string language  \\\n",
       "0    def show_clock_output_clock_time_timezone(self...   python   \n",
       "1    def get_system_uptime_input_rbridge_id(self, *...   python   \n",
       "2    def get_system_uptime_output_show_system_uptim...   python   \n",
       "3    def get_system_uptime_output_show_system_uptim...   python   \n",
       "4    def get_system_uptime_output_show_system_uptim...   python   \n",
       "..                                                 ...      ...   \n",
       "195  def get_vnetwork_dvs_output_vnetwork_dvs_name(...   python   \n",
       "196  def get_vnetwork_dvs_output_vnetwork_dvs_host(...   python   \n",
       "197  def get_vnetwork_dvs_output_vnetwork_dvs_datac...   python   \n",
       "198  def get_vnetwork_dvs_output_vnetwork_dvs_pnic(...   python   \n",
       "199  def get_vnetwork_dvs_output_vnetwork_dvs_inter...   python   \n",
       "\n",
       "                                      func_code_string  \\\n",
       "0    def show_clock_output_clock_time_timezone(self...   \n",
       "1    def get_system_uptime_input_rbridge_id(self, *...   \n",
       "2    def get_system_uptime_output_show_system_uptim...   \n",
       "3    def get_system_uptime_output_show_system_uptim...   \n",
       "4    def get_system_uptime_output_show_system_uptim...   \n",
       "..                                                 ...   \n",
       "195  def get_vnetwork_dvs_output_vnetwork_dvs_name(...   \n",
       "196  def get_vnetwork_dvs_output_vnetwork_dvs_host(...   \n",
       "197  def get_vnetwork_dvs_output_vnetwork_dvs_datac...   \n",
       "198  def get_vnetwork_dvs_output_vnetwork_dvs_pnic(...   \n",
       "199  def get_vnetwork_dvs_output_vnetwork_dvs_inter...   \n",
       "\n",
       "                                      func_code_tokens  \\\n",
       "0    [def, show_clock_output_clock_time_timezone, (...   \n",
       "1    [def, get_system_uptime_input_rbridge_id, (, s...   \n",
       "2    [def, get_system_uptime_output_show_system_upt...   \n",
       "3    [def, get_system_uptime_output_show_system_upt...   \n",
       "4    [def, get_system_uptime_output_show_system_upt...   \n",
       "..                                                 ...   \n",
       "195  [def, get_vnetwork_dvs_output_vnetwork_dvs_nam...   \n",
       "196  [def, get_vnetwork_dvs_output_vnetwork_dvs_hos...   \n",
       "197  [def, get_vnetwork_dvs_output_vnetwork_dvs_dat...   \n",
       "198  [def, get_vnetwork_dvs_output_vnetwork_dvs_pni...   \n",
       "199  [def, get_vnetwork_dvs_output_vnetwork_dvs_int...   \n",
       "\n",
       "    func_documentation_string func_documentation_tokens split_name  \\\n",
       "0         Auto Generated Code   [Auto, Generated, Code]      train   \n",
       "1         Auto Generated Code   [Auto, Generated, Code]      train   \n",
       "2         Auto Generated Code   [Auto, Generated, Code]      train   \n",
       "3         Auto Generated Code   [Auto, Generated, Code]      train   \n",
       "4         Auto Generated Code   [Auto, Generated, Code]      train   \n",
       "..                        ...                       ...        ...   \n",
       "195       Auto Generated Code   [Auto, Generated, Code]      train   \n",
       "196       Auto Generated Code   [Auto, Generated, Code]      train   \n",
       "197       Auto Generated Code   [Auto, Generated, Code]      train   \n",
       "198       Auto Generated Code   [Auto, Generated, Code]      train   \n",
       "199       Auto Generated Code   [Auto, Generated, Code]      train   \n",
       "\n",
       "                                         func_code_url  \n",
       "0    https://github.com/brocade/pynos/blob/bd8a34e9...  \n",
       "1    https://github.com/brocade/pynos/blob/bd8a34e9...  \n",
       "2    https://github.com/brocade/pynos/blob/bd8a34e9...  \n",
       "3    https://github.com/brocade/pynos/blob/bd8a34e9...  \n",
       "4    https://github.com/brocade/pynos/blob/bd8a34e9...  \n",
       "..                                                 ...  \n",
       "195  https://github.com/brocade/pynos/blob/bd8a34e9...  \n",
       "196  https://github.com/brocade/pynos/blob/bd8a34e9...  \n",
       "197  https://github.com/brocade/pynos/blob/bd8a34e9...  \n",
       "198  https://github.com/brocade/pynos/blob/bd8a34e9...  \n",
       "199  https://github.com/brocade/pynos/blob/bd8a34e9...  \n",
       "\n",
       "[200 rows x 11 columns]"
      ]
     },
     "execution_count": 2,
     "metadata": {},
     "output_type": "execute_result"
    }
   ],
   "source": [
    "df"
   ]
  },
  {
   "cell_type": "code",
   "execution_count": null,
   "metadata": {},
   "outputs": [],
   "source": []
  },
  {
   "cell_type": "code",
   "execution_count": null,
   "metadata": {},
   "outputs": [],
   "source": []
  },
  {
   "cell_type": "code",
   "execution_count": null,
   "metadata": {},
   "outputs": [
    {
     "ename": "ImportError",
     "evalue": "\nAutoModel requires the PyTorch library but it was not found in your environment. Checkout the instructions on the\ninstallation page: https://pytorch.org/get-started/locally/ and follow the ones that match your environment.\nPlease note that you may need to restart your runtime after installation.\n",
     "output_type": "error",
     "traceback": [
      "\u001b[0;31m---------------------------------------------------------------------------\u001b[0m",
      "\u001b[0;31mImportError\u001b[0m                               Traceback (most recent call last)",
      "Cell \u001b[0;32mIn[2], line 7\u001b[0m\n\u001b[1;32m      4\u001b[0m target_dir \u001b[38;5;241m=\u001b[39m \u001b[38;5;124m\"\u001b[39m\u001b[38;5;124m/opt/dlami/nvme/graphcodebert-base\u001b[39m\u001b[38;5;124m\"\u001b[39m\n\u001b[1;32m      6\u001b[0m \u001b[38;5;66;03m# Load and save model + tokenizer\u001b[39;00m\n\u001b[0;32m----> 7\u001b[0m model \u001b[38;5;241m=\u001b[39m \u001b[43mAutoModel\u001b[49m\u001b[38;5;241;43m.\u001b[39;49m\u001b[43mfrom_pretrained\u001b[49m(model_name)\n\u001b[1;32m      8\u001b[0m tokenizer \u001b[38;5;241m=\u001b[39m AutoTokenizer\u001b[38;5;241m.\u001b[39mfrom_pretrained(model_name)\n\u001b[1;32m     10\u001b[0m model\u001b[38;5;241m.\u001b[39msave_pretrained(target_dir)\n",
      "File \u001b[0;32m~/miniconda3/envs/downloadgraph/lib/python3.10/site-packages/transformers/utils/import_utils.py:1849\u001b[0m, in \u001b[0;36mDummyObject.__getattribute__\u001b[0;34m(cls, key)\u001b[0m\n\u001b[1;32m   1847\u001b[0m \u001b[38;5;28;01mif\u001b[39;00m key\u001b[38;5;241m.\u001b[39mstartswith(\u001b[38;5;124m\"\u001b[39m\u001b[38;5;124m_\u001b[39m\u001b[38;5;124m\"\u001b[39m) \u001b[38;5;129;01mand\u001b[39;00m key \u001b[38;5;241m!=\u001b[39m \u001b[38;5;124m\"\u001b[39m\u001b[38;5;124m_from_config\u001b[39m\u001b[38;5;124m\"\u001b[39m:\n\u001b[1;32m   1848\u001b[0m     \u001b[38;5;28;01mreturn\u001b[39;00m \u001b[38;5;28msuper\u001b[39m()\u001b[38;5;241m.\u001b[39m\u001b[38;5;21m__getattribute__\u001b[39m(key)\n\u001b[0;32m-> 1849\u001b[0m \u001b[43mrequires_backends\u001b[49m\u001b[43m(\u001b[49m\u001b[38;5;28;43mcls\u001b[39;49m\u001b[43m,\u001b[49m\u001b[43m \u001b[49m\u001b[38;5;28;43mcls\u001b[39;49m\u001b[38;5;241;43m.\u001b[39;49m\u001b[43m_backends\u001b[49m\u001b[43m)\u001b[49m\n",
      "File \u001b[0;32m~/miniconda3/envs/downloadgraph/lib/python3.10/site-packages/transformers/utils/import_utils.py:1837\u001b[0m, in \u001b[0;36mrequires_backends\u001b[0;34m(obj, backends)\u001b[0m\n\u001b[1;32m   1835\u001b[0m failed \u001b[38;5;241m=\u001b[39m [msg\u001b[38;5;241m.\u001b[39mformat(name) \u001b[38;5;28;01mfor\u001b[39;00m available, msg \u001b[38;5;129;01min\u001b[39;00m checks \u001b[38;5;28;01mif\u001b[39;00m \u001b[38;5;129;01mnot\u001b[39;00m available()]\n\u001b[1;32m   1836\u001b[0m \u001b[38;5;28;01mif\u001b[39;00m failed:\n\u001b[0;32m-> 1837\u001b[0m     \u001b[38;5;28;01mraise\u001b[39;00m \u001b[38;5;167;01mImportError\u001b[39;00m(\u001b[38;5;124m\"\u001b[39m\u001b[38;5;124m\"\u001b[39m\u001b[38;5;241m.\u001b[39mjoin(failed))\n",
      "\u001b[0;31mImportError\u001b[0m: \nAutoModel requires the PyTorch library but it was not found in your environment. Checkout the instructions on the\ninstallation page: https://pytorch.org/get-started/locally/ and follow the ones that match your environment.\nPlease note that you may need to restart your runtime after installation.\n"
     ]
    }
   ],
   "source": [
    "# from transformers import AutoModel, AutoTokenizer\n",
    "\n",
    "# model_name = \"microsoft/graphcodebert-base\"\n",
    "# target_dir = \"/opt/dlami/nvme/graphcodebert-base\"\n",
    "\n",
    "# # Load and save model + tokenizer\n",
    "# model = AutoModel.from_pretrained(model_name,cache_dir = \"/opt/dlami/nvme/cache\")\n",
    "# tokenizer = AutoTokenizer.from_pretrained(model_name, cache_dir = \"/opt/dlami/nvme/cache\")\n",
    "\n",
    "# model.save_pretrained(target_dir)\n",
    "# tokenizer.save_pretrained(target_dir)\n"
   ]
  },
  {
   "cell_type": "code",
   "execution_count": null,
   "metadata": {},
   "outputs": [
    {
     "name": "stderr",
     "output_type": "stream",
     "text": [
      "/home/ubuntu/miniconda3/envs/retriever/lib/python3.6/site-packages/tqdm/auto.py:22: TqdmWarning: IProgress not found. Please update jupyter and ipywidgets. See https://ipywidgets.readthedocs.io/en/stable/user_install.html\n",
      "  from .autonotebook import tqdm as notebook_tqdm\n"
     ]
    },
    {
     "ename": "OSError",
     "evalue": "Can't load config for 'microsoft/graphcodebert-base'. Make sure that:\n\n- 'microsoft/graphcodebert-base' is a correct model identifier listed on 'https://huggingface.co/models'\n\n- or 'microsoft/graphcodebert-base' is the correct path to a directory containing a config.json file\n\n",
     "output_type": "error",
     "traceback": [
      "\u001b[0;31m---------------------------------------------------------------------------\u001b[0m",
      "\u001b[0;31mOSError\u001b[0m                                   Traceback (most recent call last)",
      "\u001b[0;32m~/project/transformers-3.0.2/src/transformers/configuration_utils.py\u001b[0m in \u001b[0;36mget_config_dict\u001b[0;34m(cls, pretrained_model_name_or_path, **kwargs)\u001b[0m\n\u001b[1;32m    241\u001b[0m             \u001b[0;32mif\u001b[0m \u001b[0mresolved_config_file\u001b[0m \u001b[0;32mis\u001b[0m \u001b[0;32mNone\u001b[0m\u001b[0;34m:\u001b[0m\u001b[0;34m\u001b[0m\u001b[0;34m\u001b[0m\u001b[0m\n\u001b[0;32m--> 242\u001b[0;31m                 \u001b[0;32mraise\u001b[0m \u001b[0mEnvironmentError\u001b[0m\u001b[0;34m\u001b[0m\u001b[0;34m\u001b[0m\u001b[0m\n\u001b[0m\u001b[1;32m    243\u001b[0m             \u001b[0mconfig_dict\u001b[0m \u001b[0;34m=\u001b[0m \u001b[0mcls\u001b[0m\u001b[0;34m.\u001b[0m\u001b[0m_dict_from_json_file\u001b[0m\u001b[0;34m(\u001b[0m\u001b[0mresolved_config_file\u001b[0m\u001b[0;34m)\u001b[0m\u001b[0;34m\u001b[0m\u001b[0;34m\u001b[0m\u001b[0m\n",
      "\u001b[0;31mOSError\u001b[0m: ",
      "\nDuring handling of the above exception, another exception occurred:\n",
      "\u001b[0;31mOSError\u001b[0m                                   Traceback (most recent call last)",
      "\u001b[0;32m<ipython-input-1-c991da54dc7b>\u001b[0m in \u001b[0;36m<module>\u001b[0;34m\u001b[0m\n\u001b[1;32m      2\u001b[0m \u001b[0;32mfrom\u001b[0m \u001b[0mtransformers\u001b[0m \u001b[0;32mimport\u001b[0m \u001b[0mAutoTokenizer\u001b[0m\u001b[0;34m,\u001b[0m \u001b[0mAutoModel\u001b[0m\u001b[0;34m\u001b[0m\u001b[0;34m\u001b[0m\u001b[0m\n\u001b[1;32m      3\u001b[0m \u001b[0;34m\u001b[0m\u001b[0m\n\u001b[0;32m----> 4\u001b[0;31m \u001b[0mtokenizer\u001b[0m \u001b[0;34m=\u001b[0m \u001b[0mAutoTokenizer\u001b[0m\u001b[0;34m.\u001b[0m\u001b[0mfrom_pretrained\u001b[0m\u001b[0;34m(\u001b[0m\u001b[0;34m\"microsoft/graphcodebert-base\"\u001b[0m\u001b[0;34m,\u001b[0m \u001b[0mcache_dir\u001b[0m\u001b[0;34m=\u001b[0m\u001b[0;34m\"/opt/dlami/nvme/graphbert\"\u001b[0m\u001b[0;34m)\u001b[0m\u001b[0;34m\u001b[0m\u001b[0;34m\u001b[0m\u001b[0m\n\u001b[0m\u001b[1;32m      5\u001b[0m \u001b[0mmodel\u001b[0m \u001b[0;34m=\u001b[0m \u001b[0mAutoModel\u001b[0m\u001b[0;34m.\u001b[0m\u001b[0mfrom_pretrained\u001b[0m\u001b[0;34m(\u001b[0m\u001b[0;34m\"microsoft/graphcodebert-base\"\u001b[0m\u001b[0;34m,\u001b[0m \u001b[0mcache_dir\u001b[0m\u001b[0;34m=\u001b[0m\u001b[0;34m\"/opt/dlami/nvme/graphbert\"\u001b[0m\u001b[0;34m)\u001b[0m\u001b[0;34m\u001b[0m\u001b[0;34m\u001b[0m\u001b[0m\n\u001b[1;32m      6\u001b[0m \u001b[0;34m\u001b[0m\u001b[0m\n",
      "\u001b[0;32m~/project/transformers-3.0.2/src/transformers/tokenization_auto.py\u001b[0m in \u001b[0;36mfrom_pretrained\u001b[0;34m(cls, pretrained_model_name_or_path, *inputs, **kwargs)\u001b[0m\n\u001b[1;32m    204\u001b[0m         \u001b[0mconfig\u001b[0m \u001b[0;34m=\u001b[0m \u001b[0mkwargs\u001b[0m\u001b[0;34m.\u001b[0m\u001b[0mpop\u001b[0m\u001b[0;34m(\u001b[0m\u001b[0;34m\"config\"\u001b[0m\u001b[0;34m,\u001b[0m \u001b[0;32mNone\u001b[0m\u001b[0;34m)\u001b[0m\u001b[0;34m\u001b[0m\u001b[0;34m\u001b[0m\u001b[0m\n\u001b[1;32m    205\u001b[0m         \u001b[0;32mif\u001b[0m \u001b[0;32mnot\u001b[0m \u001b[0misinstance\u001b[0m\u001b[0;34m(\u001b[0m\u001b[0mconfig\u001b[0m\u001b[0;34m,\u001b[0m \u001b[0mPretrainedConfig\u001b[0m\u001b[0;34m)\u001b[0m\u001b[0;34m:\u001b[0m\u001b[0;34m\u001b[0m\u001b[0;34m\u001b[0m\u001b[0m\n\u001b[0;32m--> 206\u001b[0;31m             \u001b[0mconfig\u001b[0m \u001b[0;34m=\u001b[0m \u001b[0mAutoConfig\u001b[0m\u001b[0;34m.\u001b[0m\u001b[0mfrom_pretrained\u001b[0m\u001b[0;34m(\u001b[0m\u001b[0mpretrained_model_name_or_path\u001b[0m\u001b[0;34m,\u001b[0m \u001b[0;34m**\u001b[0m\u001b[0mkwargs\u001b[0m\u001b[0;34m)\u001b[0m\u001b[0;34m\u001b[0m\u001b[0;34m\u001b[0m\u001b[0m\n\u001b[0m\u001b[1;32m    207\u001b[0m \u001b[0;34m\u001b[0m\u001b[0m\n\u001b[1;32m    208\u001b[0m         \u001b[0;32mif\u001b[0m \u001b[0;34m\"bert-base-japanese\"\u001b[0m \u001b[0;32min\u001b[0m \u001b[0mstr\u001b[0m\u001b[0;34m(\u001b[0m\u001b[0mpretrained_model_name_or_path\u001b[0m\u001b[0;34m)\u001b[0m\u001b[0;34m:\u001b[0m\u001b[0;34m\u001b[0m\u001b[0;34m\u001b[0m\u001b[0m\n",
      "\u001b[0;32m~/project/transformers-3.0.2/src/transformers/configuration_auto.py\u001b[0m in \u001b[0;36mfrom_pretrained\u001b[0;34m(cls, pretrained_model_name_or_path, **kwargs)\u001b[0m\n\u001b[1;32m    201\u001b[0m \u001b[0;34m\u001b[0m\u001b[0m\n\u001b[1;32m    202\u001b[0m         \"\"\"\n\u001b[0;32m--> 203\u001b[0;31m         \u001b[0mconfig_dict\u001b[0m\u001b[0;34m,\u001b[0m \u001b[0m_\u001b[0m \u001b[0;34m=\u001b[0m \u001b[0mPretrainedConfig\u001b[0m\u001b[0;34m.\u001b[0m\u001b[0mget_config_dict\u001b[0m\u001b[0;34m(\u001b[0m\u001b[0mpretrained_model_name_or_path\u001b[0m\u001b[0;34m,\u001b[0m \u001b[0;34m**\u001b[0m\u001b[0mkwargs\u001b[0m\u001b[0;34m)\u001b[0m\u001b[0;34m\u001b[0m\u001b[0;34m\u001b[0m\u001b[0m\n\u001b[0m\u001b[1;32m    204\u001b[0m \u001b[0;34m\u001b[0m\u001b[0m\n\u001b[1;32m    205\u001b[0m         \u001b[0;32mif\u001b[0m \u001b[0;34m\"model_type\"\u001b[0m \u001b[0;32min\u001b[0m \u001b[0mconfig_dict\u001b[0m\u001b[0;34m:\u001b[0m\u001b[0;34m\u001b[0m\u001b[0;34m\u001b[0m\u001b[0m\n",
      "\u001b[0;32m~/project/transformers-3.0.2/src/transformers/configuration_utils.py\u001b[0m in \u001b[0;36mget_config_dict\u001b[0;34m(cls, pretrained_model_name_or_path, **kwargs)\u001b[0m\n\u001b[1;32m    249\u001b[0m                 \u001b[0;34mf\"- or '{pretrained_model_name_or_path}' is the correct path to a directory containing a {CONFIG_NAME} file\\n\\n\"\u001b[0m\u001b[0;34m\u001b[0m\u001b[0;34m\u001b[0m\u001b[0m\n\u001b[1;32m    250\u001b[0m             )\n\u001b[0;32m--> 251\u001b[0;31m             \u001b[0;32mraise\u001b[0m \u001b[0mEnvironmentError\u001b[0m\u001b[0;34m(\u001b[0m\u001b[0mmsg\u001b[0m\u001b[0;34m)\u001b[0m\u001b[0;34m\u001b[0m\u001b[0;34m\u001b[0m\u001b[0m\n\u001b[0m\u001b[1;32m    252\u001b[0m \u001b[0;34m\u001b[0m\u001b[0m\n\u001b[1;32m    253\u001b[0m         \u001b[0;32mexcept\u001b[0m \u001b[0mjson\u001b[0m\u001b[0;34m.\u001b[0m\u001b[0mJSONDecodeError\u001b[0m\u001b[0;34m:\u001b[0m\u001b[0;34m\u001b[0m\u001b[0;34m\u001b[0m\u001b[0m\n",
      "\u001b[0;31mOSError\u001b[0m: Can't load config for 'microsoft/graphcodebert-base'. Make sure that:\n\n- 'microsoft/graphcodebert-base' is a correct model identifier listed on 'https://huggingface.co/models'\n\n- or 'microsoft/graphcodebert-base' is the correct path to a directory containing a config.json file\n\n"
     ]
    }
   ],
   "source": [
    "# Load model directly\n",
    "from transformers import AutoTokenizer, AutoModel\n",
    "\n",
    "tokenizer = AutoTokenizer.from_pretrained(\"microsoft/graphcodebert-base\", cache_dir=\"/opt/dlami/nvme/hgface_models\")\n",
    "model = AutoModel.from_pretrained(\"microsoft/graphcodebert-base\", cache_dir=\"/opt/dlami/nvme/hgface_models\")"
   ]
  },
  {
   "cell_type": "code",
   "execution_count": 3,
   "metadata": {},
   "outputs": [
    {
     "ename": "OSError",
     "evalue": "Can't load config for 'microsoft/graphcodebert-base'. Make sure that:\n\n- 'microsoft/graphcodebert-base' is a correct model identifier listed on 'https://huggingface.co/models'\n\n- or 'microsoft/graphcodebert-base' is the correct path to a directory containing a config.json file\n\n",
     "output_type": "error",
     "traceback": [
      "\u001b[0;31m---------------------------------------------------------------------------\u001b[0m",
      "\u001b[0;31mOSError\u001b[0m                                   Traceback (most recent call last)",
      "\u001b[0;32m~/project/transformers-3.0.2/src/transformers/configuration_utils.py\u001b[0m in \u001b[0;36mget_config_dict\u001b[0;34m(cls, pretrained_model_name_or_path, **kwargs)\u001b[0m\n\u001b[1;32m    241\u001b[0m             \u001b[0;32mif\u001b[0m \u001b[0mresolved_config_file\u001b[0m \u001b[0;32mis\u001b[0m \u001b[0;32mNone\u001b[0m\u001b[0;34m:\u001b[0m\u001b[0;34m\u001b[0m\u001b[0;34m\u001b[0m\u001b[0m\n\u001b[0;32m--> 242\u001b[0;31m                 \u001b[0;32mraise\u001b[0m \u001b[0mEnvironmentError\u001b[0m\u001b[0;34m\u001b[0m\u001b[0;34m\u001b[0m\u001b[0m\n\u001b[0m\u001b[1;32m    243\u001b[0m             \u001b[0mconfig_dict\u001b[0m \u001b[0;34m=\u001b[0m \u001b[0mcls\u001b[0m\u001b[0;34m.\u001b[0m\u001b[0m_dict_from_json_file\u001b[0m\u001b[0;34m(\u001b[0m\u001b[0mresolved_config_file\u001b[0m\u001b[0;34m)\u001b[0m\u001b[0;34m\u001b[0m\u001b[0;34m\u001b[0m\u001b[0m\n",
      "\u001b[0;31mOSError\u001b[0m: ",
      "\nDuring handling of the above exception, another exception occurred:\n",
      "\u001b[0;31mOSError\u001b[0m                                   Traceback (most recent call last)",
      "\u001b[0;32m<ipython-input-3-0ffee6fbfc4c>\u001b[0m in \u001b[0;36m<module>\u001b[0;34m\u001b[0m\n\u001b[1;32m      2\u001b[0m \u001b[0;32mfrom\u001b[0m \u001b[0mtransformers\u001b[0m \u001b[0;32mimport\u001b[0m \u001b[0mAutoTokenizer\u001b[0m\u001b[0;34m,\u001b[0m \u001b[0mAutoModelForMaskedLM\u001b[0m\u001b[0;34m\u001b[0m\u001b[0;34m\u001b[0m\u001b[0m\n\u001b[1;32m      3\u001b[0m \u001b[0;34m\u001b[0m\u001b[0m\n\u001b[0;32m----> 4\u001b[0;31m \u001b[0mtokenizer\u001b[0m \u001b[0;34m=\u001b[0m \u001b[0mAutoTokenizer\u001b[0m\u001b[0;34m.\u001b[0m\u001b[0mfrom_pretrained\u001b[0m\u001b[0;34m(\u001b[0m\u001b[0;34m\"microsoft/graphcodebert-base\"\u001b[0m\u001b[0;34m)\u001b[0m\u001b[0;34m\u001b[0m\u001b[0;34m\u001b[0m\u001b[0m\n\u001b[0m\u001b[1;32m      5\u001b[0m \u001b[0mmodel\u001b[0m \u001b[0;34m=\u001b[0m \u001b[0mAutoModelForMaskedLM\u001b[0m\u001b[0;34m.\u001b[0m\u001b[0mfrom_pretrained\u001b[0m\u001b[0;34m(\u001b[0m\u001b[0;34m\"microsoft/graphcodebert-base\"\u001b[0m\u001b[0;34m)\u001b[0m\u001b[0;34m\u001b[0m\u001b[0;34m\u001b[0m\u001b[0m\n",
      "\u001b[0;32m~/project/transformers-3.0.2/src/transformers/tokenization_auto.py\u001b[0m in \u001b[0;36mfrom_pretrained\u001b[0;34m(cls, pretrained_model_name_or_path, *inputs, **kwargs)\u001b[0m\n\u001b[1;32m    204\u001b[0m         \u001b[0mconfig\u001b[0m \u001b[0;34m=\u001b[0m \u001b[0mkwargs\u001b[0m\u001b[0;34m.\u001b[0m\u001b[0mpop\u001b[0m\u001b[0;34m(\u001b[0m\u001b[0;34m\"config\"\u001b[0m\u001b[0;34m,\u001b[0m \u001b[0;32mNone\u001b[0m\u001b[0;34m)\u001b[0m\u001b[0;34m\u001b[0m\u001b[0;34m\u001b[0m\u001b[0m\n\u001b[1;32m    205\u001b[0m         \u001b[0;32mif\u001b[0m \u001b[0;32mnot\u001b[0m \u001b[0misinstance\u001b[0m\u001b[0;34m(\u001b[0m\u001b[0mconfig\u001b[0m\u001b[0;34m,\u001b[0m \u001b[0mPretrainedConfig\u001b[0m\u001b[0;34m)\u001b[0m\u001b[0;34m:\u001b[0m\u001b[0;34m\u001b[0m\u001b[0;34m\u001b[0m\u001b[0m\n\u001b[0;32m--> 206\u001b[0;31m             \u001b[0mconfig\u001b[0m \u001b[0;34m=\u001b[0m \u001b[0mAutoConfig\u001b[0m\u001b[0;34m.\u001b[0m\u001b[0mfrom_pretrained\u001b[0m\u001b[0;34m(\u001b[0m\u001b[0mpretrained_model_name_or_path\u001b[0m\u001b[0;34m,\u001b[0m \u001b[0;34m**\u001b[0m\u001b[0mkwargs\u001b[0m\u001b[0;34m)\u001b[0m\u001b[0;34m\u001b[0m\u001b[0;34m\u001b[0m\u001b[0m\n\u001b[0m\u001b[1;32m    207\u001b[0m \u001b[0;34m\u001b[0m\u001b[0m\n\u001b[1;32m    208\u001b[0m         \u001b[0;32mif\u001b[0m \u001b[0;34m\"bert-base-japanese\"\u001b[0m \u001b[0;32min\u001b[0m \u001b[0mstr\u001b[0m\u001b[0;34m(\u001b[0m\u001b[0mpretrained_model_name_or_path\u001b[0m\u001b[0;34m)\u001b[0m\u001b[0;34m:\u001b[0m\u001b[0;34m\u001b[0m\u001b[0;34m\u001b[0m\u001b[0m\n",
      "\u001b[0;32m~/project/transformers-3.0.2/src/transformers/configuration_auto.py\u001b[0m in \u001b[0;36mfrom_pretrained\u001b[0;34m(cls, pretrained_model_name_or_path, **kwargs)\u001b[0m\n\u001b[1;32m    201\u001b[0m \u001b[0;34m\u001b[0m\u001b[0m\n\u001b[1;32m    202\u001b[0m         \"\"\"\n\u001b[0;32m--> 203\u001b[0;31m         \u001b[0mconfig_dict\u001b[0m\u001b[0;34m,\u001b[0m \u001b[0m_\u001b[0m \u001b[0;34m=\u001b[0m \u001b[0mPretrainedConfig\u001b[0m\u001b[0;34m.\u001b[0m\u001b[0mget_config_dict\u001b[0m\u001b[0;34m(\u001b[0m\u001b[0mpretrained_model_name_or_path\u001b[0m\u001b[0;34m,\u001b[0m \u001b[0;34m**\u001b[0m\u001b[0mkwargs\u001b[0m\u001b[0;34m)\u001b[0m\u001b[0;34m\u001b[0m\u001b[0;34m\u001b[0m\u001b[0m\n\u001b[0m\u001b[1;32m    204\u001b[0m \u001b[0;34m\u001b[0m\u001b[0m\n\u001b[1;32m    205\u001b[0m         \u001b[0;32mif\u001b[0m \u001b[0;34m\"model_type\"\u001b[0m \u001b[0;32min\u001b[0m \u001b[0mconfig_dict\u001b[0m\u001b[0;34m:\u001b[0m\u001b[0;34m\u001b[0m\u001b[0;34m\u001b[0m\u001b[0m\n",
      "\u001b[0;32m~/project/transformers-3.0.2/src/transformers/configuration_utils.py\u001b[0m in \u001b[0;36mget_config_dict\u001b[0;34m(cls, pretrained_model_name_or_path, **kwargs)\u001b[0m\n\u001b[1;32m    249\u001b[0m                 \u001b[0;34mf\"- or '{pretrained_model_name_or_path}' is the correct path to a directory containing a {CONFIG_NAME} file\\n\\n\"\u001b[0m\u001b[0;34m\u001b[0m\u001b[0;34m\u001b[0m\u001b[0m\n\u001b[1;32m    250\u001b[0m             )\n\u001b[0;32m--> 251\u001b[0;31m             \u001b[0;32mraise\u001b[0m \u001b[0mEnvironmentError\u001b[0m\u001b[0;34m(\u001b[0m\u001b[0mmsg\u001b[0m\u001b[0;34m)\u001b[0m\u001b[0;34m\u001b[0m\u001b[0;34m\u001b[0m\u001b[0m\n\u001b[0m\u001b[1;32m    252\u001b[0m \u001b[0;34m\u001b[0m\u001b[0m\n\u001b[1;32m    253\u001b[0m         \u001b[0;32mexcept\u001b[0m \u001b[0mjson\u001b[0m\u001b[0;34m.\u001b[0m\u001b[0mJSONDecodeError\u001b[0m\u001b[0;34m:\u001b[0m\u001b[0;34m\u001b[0m\u001b[0;34m\u001b[0m\u001b[0m\n",
      "\u001b[0;31mOSError\u001b[0m: Can't load config for 'microsoft/graphcodebert-base'. Make sure that:\n\n- 'microsoft/graphcodebert-base' is a correct model identifier listed on 'https://huggingface.co/models'\n\n- or 'microsoft/graphcodebert-base' is the correct path to a directory containing a config.json file\n\n"
     ]
    }
   ],
   "source": [
    "# Load model directly\n",
    "from transformers import AutoTokenizer, AutoModelForMaskedLM\n",
    "\n",
    "tokenizer = AutoTokenizer.from_pretrained(\"microsoft/graphcodebert-base\")\n",
    "model = AutoModelForMaskedLM.from_pretrained(\"microsoft/graphcodebert-base\")"
   ]
  },
  {
   "cell_type": "code",
   "execution_count": null,
   "metadata": {},
   "outputs": [],
   "source": []
  }
 ],
 "metadata": {
  "kernelspec": {
   "display_name": "base",
   "language": "python",
   "name": "python3"
  },
  "language_info": {
   "codemirror_mode": {
    "name": "ipython",
    "version": 3
   },
   "file_extension": ".py",
   "mimetype": "text/x-python",
   "name": "python",
   "nbconvert_exporter": "python",
   "pygments_lexer": "ipython3",
   "version": "3.12.9"
  }
 },
 "nbformat": 4,
 "nbformat_minor": 2
}
