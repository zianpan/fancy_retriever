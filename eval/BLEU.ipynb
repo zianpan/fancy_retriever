{
 "cells": [
  {
   "cell_type": "code",
   "execution_count": 1,
   "metadata": {},
   "outputs": [],
   "source": [
    "import json\n",
    "import numpy as np\n",
    "\n",
    "top_k = 200\n",
    "instances_num = 23107\n",
    "scores_raw_all = np.zeros((instances_num, top_k))\n",
    "codes_retrieved_all = [] # list of instances_num lists, each list has top_k items\n",
    "codes_ground_truth_all = [] # list of instances_num code strings\n",
    "row = 0\n",
    "for file in range(1, 25):\n",
    "    with open(\"output_ret/retrieval_chunk_\" + str(file) + \"_top200_result.json\") as f:\n",
    "        data = json.load(f)\n",
    "        for i in range(len(data)):\n",
    "            codes_ground_truth_all.append(data[i][\"answers\"])\n",
    "            scores_raw_all[row] = np.array([data[i][\"ctxs\"][j][\"score\"] for j in range(top_k)])\n",
    "            codes_retrieved_all.append([data[i][\"ctxs\"][j][\"text\"] for j in range(top_k)])\n",
    "            row += 1\n",
    "\n",
    "# data has 1000 items, \n",
    "# for each item \"data[i]\" i in [0, 999], there are associated \"question\" (code prompt, str), \"answers\" (ground truth code, str), and a \"ctxs\"\n",
    "# each \"ctxs\" is a list of dictionaries \"data[i][\"ctxs\"][j]\" j in [0, 199], each dictionary has 5 keys:\n",
    "# ['id' (path, str), 'title' (str), 'text' (retrieved code, str), 'score' (similarity, float), 'has_answer' (bool)]\n",
    "\n",
    "# check for json file loading\n",
    "# print(0 in scores_raw_all) # False\n",
    "# for i in range(len(codes_retrieved_all)): assert len(codes_retrieved_all[i]) == top_k\n",
    "assert row == len(codes_retrieved_all) == len(codes_ground_truth_all) == instances_num"
   ]
  },
  {
   "cell_type": "code",
   "execution_count": 2,
   "metadata": {},
   "outputs": [
    {
     "name": "stdout",
     "output_type": "stream",
     "text": [
      "Exact Match Rate: 0.0000\n"
     ]
    }
   ],
   "source": [
    "exact_matches = 0\n",
    "for i in range(instances_num):\n",
    "    # Find the index of the top raw score for instance i\n",
    "    best_index = np.argmax(scores_raw_all[i])\n",
    "    # Compare the retrieved code at best_index to the ground truth code\n",
    "    if codes_retrieved_all[i][best_index] == codes_ground_truth_all[i]:\n",
    "        exact_matches += 1\n",
    "\n",
    "# Compute exact match rate\n",
    "exact_match_rate = exact_matches / instances_num\n",
    "print(f\"Exact Match Rate: {exact_match_rate:.4f}\")\n"
   ]
  },
  {
   "cell_type": "code",
   "execution_count": 3,
   "metadata": {},
   "outputs": [
    {
     "name": "stderr",
     "output_type": "stream",
     "text": [
      "BLEU scoring...: 100%|██████████| 23107/23107 [00:00<00:00, 59845.96it/s]\n"
     ]
    },
    {
     "name": "stdout",
     "output_type": "stream",
     "text": [
      "Corpus-level BLEU score: 0.07487758390294394\n"
     ]
    }
   ],
   "source": [
    "from nltk.translate.bleu_score import corpus_bleu\n",
    "from tqdm import tqdm\n",
    "\n",
    "all_candidates = []  # each will be a tokenized candidate code snippet\n",
    "all_references = []  # each will be a list containing one tokenized reference code snippet\n",
    "for i in tqdm(range(instances_num), desc=\"BLEU scoring...\"):\n",
    "    # Find index of highest raw score\n",
    "    best_index = np.argmax(scores_raw_all[i])\n",
    "\n",
    "    candidate_str = codes_retrieved_all[i][best_index]\n",
    "    reference_str = codes_ground_truth_all[i]\n",
    "\n",
    "    # Tokenize; this is a simplistic approach!\n",
    "    candidate_tokens = candidate_str.split()\n",
    "    reference_tokens = reference_str.split()\n",
    "\n",
    "    all_candidates.append(candidate_tokens)\n",
    "    # NLTK’s corpus_bleu expects each reference to be a list-of-lists of tokens\n",
    "    all_references.append([reference_tokens])\n",
    "\n",
    "# Calculate corpus-level BLEU\n",
    "bleu_score = corpus_bleu(all_references, all_candidates)\n",
    "print(\"Corpus-level BLEU score:\", bleu_score)"
   ]
  },
  {
   "cell_type": "code",
   "execution_count": 4,
   "metadata": {},
   "outputs": [
    {
     "name": "stdout",
     "output_type": "stream",
     "text": [
      "Average sentence-level BLEU: 0.1795 (i.e., 17.95%)\n"
     ]
    }
   ],
   "source": [
    "import numpy as np\n",
    "from nltk.translate.bleu_score import sentence_bleu, SmoothingFunction\n",
    "\n",
    "# Assuming you have:\n",
    "#   top_k, instances_num\n",
    "#   scores_raw_all: shape (instances_num, top_k)\n",
    "#   codes_retrieved_all: list of length instances_num, each a list of length top_k\n",
    "#   codes_ground_truth_all: list of length instances_num\n",
    "\n",
    "# 1. Tokenizer (defined above)\n",
    "import re\n",
    "\n",
    "def tokenize_code(code_str):\n",
    "    tokens = re.findall(r\"[A-Za-z0-9_]+|\\S\", code_str)\n",
    "    return tokens\n",
    "\n",
    "smooth_fn = SmoothingFunction().method4  # method4 is a common smoothing method\n",
    "\n",
    "bleu_scores = []\n",
    "\n",
    "for i in range(instances_num):\n",
    "    # Index of the highest raw score\n",
    "    best_index = np.argmax(scores_raw_all[i])\n",
    "    \n",
    "    # Retrieve candidate and reference code strings\n",
    "    candidate_str = codes_retrieved_all[i][best_index]\n",
    "    reference_str = codes_ground_truth_all[i]\n",
    "    \n",
    "    # Tokenize\n",
    "    candidate_tokens = tokenize_code(candidate_str)\n",
    "    reference_tokens = tokenize_code(reference_str)\n",
    "    \n",
    "    # In NLTK's BLEU, reference is a list-of-lists\n",
    "    # here we only have one reference (the ground truth)\n",
    "    references = [reference_tokens]\n",
    "\n",
    "    # Calculate *sentence-level* BLEU with 1 reference\n",
    "    score = sentence_bleu(\n",
    "        references,               # list of references\n",
    "        candidate_tokens,         # candidate tokens\n",
    "        smoothing_function=smooth_fn\n",
    "    )\n",
    "    bleu_scores.append(score)\n",
    "\n",
    "# Finally, average these instance-level BLEU scores.\n",
    "average_bleu = np.mean(bleu_scores)\n",
    "# Often reported as a percentage or a float in [0..100].\n",
    "print(f\"Average sentence-level BLEU: {average_bleu:.4f} (i.e., {average_bleu*100:.2f}%)\")\n"
   ]
  },
  {
   "cell_type": "code",
   "execution_count": 10,
   "metadata": {},
   "outputs": [
    {
     "ename": "TypeError",
     "evalue": "an integer is required",
     "output_type": "error",
     "traceback": [
      "\u001b[0;31m---------------------------------------------------------------------------\u001b[0m",
      "\u001b[0;31mTypeError\u001b[0m                                 Traceback (most recent call last)",
      "Cell \u001b[0;32mIn[10], line 63\u001b[0m\n\u001b[1;32m     60\u001b[0m     \u001b[38;5;28;01mreturn\u001b[39;00m candidates, references\n\u001b[1;32m     62\u001b[0m prediction, reference \u001b[38;5;241m=\u001b[39m prepare_candidates_and_references(scores_raw_all, codes_retrieved_all, codes_ground_truth_all)\n\u001b[0;32m---> 63\u001b[0m result \u001b[38;5;241m=\u001b[39m \u001b[43mcalc_codebleu\u001b[49m\u001b[43m(\u001b[49m\u001b[43m[\u001b[49m\u001b[43mreference\u001b[49m\u001b[43m]\u001b[49m\u001b[43m,\u001b[49m\u001b[43m \u001b[49m\u001b[43m[\u001b[49m\u001b[43mprediction\u001b[49m\u001b[43m]\u001b[49m\u001b[43m,\u001b[49m\u001b[43m \u001b[49m\u001b[43mlang\u001b[49m\u001b[38;5;241;43m=\u001b[39;49m\u001b[38;5;124;43m\"\u001b[39;49m\u001b[38;5;124;43mpython\u001b[39;49m\u001b[38;5;124;43m\"\u001b[39;49m\u001b[43m,\u001b[49m\u001b[43m \u001b[49m\u001b[43mweights\u001b[49m\u001b[38;5;241;43m=\u001b[39;49m\u001b[43m(\u001b[49m\u001b[38;5;241;43m0.25\u001b[39;49m\u001b[43m,\u001b[49m\u001b[43m \u001b[49m\u001b[38;5;241;43m0.25\u001b[39;49m\u001b[43m,\u001b[49m\u001b[43m \u001b[49m\u001b[38;5;241;43m0.25\u001b[39;49m\u001b[43m,\u001b[49m\u001b[43m \u001b[49m\u001b[38;5;241;43m0.25\u001b[39;49m\u001b[43m)\u001b[49m\u001b[43m,\u001b[49m\u001b[43m \u001b[49m\u001b[43mtokenizer\u001b[49m\u001b[38;5;241;43m=\u001b[39;49m\u001b[38;5;28;43;01mNone\u001b[39;49;00m\u001b[43m)\u001b[49m\n\u001b[1;32m     64\u001b[0m \u001b[38;5;28mprint\u001b[39m(result)\n",
      "File \u001b[0;32m~/miniconda3/envs/anlp_RAG/lib/python3.9/site-packages/codebleu/codebleu.py:41\u001b[0m, in \u001b[0;36mcalc_codebleu\u001b[0;34m(references, predictions, lang, weights, tokenizer, keywords_dir)\u001b[0m\n\u001b[1;32m     38\u001b[0m \u001b[38;5;28;01massert\u001b[39;00m keywords_dir\u001b[38;5;241m.\u001b[39mexists(), \u001b[38;5;124mf\u001b[39m\u001b[38;5;124m\"\u001b[39m\u001b[38;5;124mkeywords_dir \u001b[39m\u001b[38;5;132;01m{\u001b[39;00mkeywords_dir\u001b[38;5;132;01m}\u001b[39;00m\u001b[38;5;124m does not exist\u001b[39m\u001b[38;5;124m\"\u001b[39m\n\u001b[1;32m     40\u001b[0m \u001b[38;5;66;03m# get the tree-sitter language for a given language\u001b[39;00m\n\u001b[0;32m---> 41\u001b[0m tree_sitter_language \u001b[38;5;241m=\u001b[39m \u001b[43mget_tree_sitter_language\u001b[49m\u001b[43m(\u001b[49m\u001b[43mlang\u001b[49m\u001b[43m)\u001b[49m\n\u001b[1;32m     43\u001b[0m \u001b[38;5;66;03m# preprocess inputs\u001b[39;00m\n\u001b[1;32m     44\u001b[0m references \u001b[38;5;241m=\u001b[39m [[x\u001b[38;5;241m.\u001b[39mstrip() \u001b[38;5;28;01mfor\u001b[39;00m x \u001b[38;5;129;01min\u001b[39;00m ref] \u001b[38;5;28;01mif\u001b[39;00m \u001b[38;5;28misinstance\u001b[39m(ref, \u001b[38;5;28mlist\u001b[39m) \u001b[38;5;28;01melse\u001b[39;00m [ref\u001b[38;5;241m.\u001b[39mstrip()] \u001b[38;5;28;01mfor\u001b[39;00m ref \u001b[38;5;129;01min\u001b[39;00m references]\n",
      "File \u001b[0;32m~/miniconda3/envs/anlp_RAG/lib/python3.9/site-packages/codebleu/utils.py:163\u001b[0m, in \u001b[0;36mget_tree_sitter_language\u001b[0;34m(lang)\u001b[0m\n\u001b[1;32m    160\u001b[0m \u001b[38;5;28;01melif\u001b[39;00m lang \u001b[38;5;241m==\u001b[39m \u001b[38;5;124m\"\u001b[39m\u001b[38;5;124mpython\u001b[39m\u001b[38;5;124m\"\u001b[39m:\n\u001b[1;32m    161\u001b[0m     \u001b[38;5;28;01mimport\u001b[39;00m\u001b[38;5;250m \u001b[39m\u001b[38;5;21;01mtree_sitter_python\u001b[39;00m\n\u001b[0;32m--> 163\u001b[0m     \u001b[38;5;28;01mreturn\u001b[39;00m \u001b[43mLanguage\u001b[49m\u001b[43m(\u001b[49m\u001b[43mtree_sitter_python\u001b[49m\u001b[38;5;241;43m.\u001b[39;49m\u001b[43mlanguage\u001b[49m\u001b[43m(\u001b[49m\u001b[43m)\u001b[49m\u001b[43m)\u001b[49m\n\u001b[1;32m    164\u001b[0m \u001b[38;5;28;01melif\u001b[39;00m lang \u001b[38;5;241m==\u001b[39m \u001b[38;5;124m\"\u001b[39m\u001b[38;5;124mgo\u001b[39m\u001b[38;5;124m\"\u001b[39m:\n\u001b[1;32m    165\u001b[0m     \u001b[38;5;28;01mimport\u001b[39;00m\u001b[38;5;250m \u001b[39m\u001b[38;5;21;01mtree_sitter_go\u001b[39;00m\n",
      "\u001b[0;31mTypeError\u001b[0m: an integer is required"
     ]
    }
   ],
   "source": [
    "import re\n",
    "\n",
    "# -----------------------------------------------------------------------\n",
    "# 1. Make sure you've installed the CodeBLEU code in your environment\n",
    "#    so that \"from codebleu import calc_codebleu\" works.\n",
    "#    In the official CodeXGLUE repo, you usually do:\n",
    "#        cd Code-Code/codebleu\n",
    "#        pip install -e .\n",
    "#    Then you can import it here:\n",
    "\n",
    "from codebleu import calc_codebleu\n",
    "\n",
    "# -----------------------------------------------------------------------\n",
    "# 2. Define a simple tokenizer for code.\n",
    "\n",
    "def tokenize_code(code_str):\n",
    "    \"\"\"\n",
    "    A simplistic regex-based tokenizer for code.\n",
    "    Splits on boundaries between alphanumeric/underscore \n",
    "    and non-alphanumeric/underscore characters.\n",
    "    \"\"\"\n",
    "    tokens = re.findall(r\"[A-Za-z0-9_]+|\\S\", code_str)\n",
    "    return tokens\n",
    "\n",
    "# -----------------------------------------------------------------------\n",
    "# 3. Prepare code-level references and candidates:\n",
    "#    We pick only the \"best\" retrieved snippet for each instance (top raw score).\n",
    "#    Then store them as code strings (optionally tokenized) for CodeBLEU.\n",
    "\n",
    "def prepare_candidates_and_references(scores_raw_all, codes_retrieved_all, codes_ground_truth_all):\n",
    "    \"\"\"\n",
    "    :param scores_raw_all: shape (num_instances, top_k)\n",
    "    :param codes_retrieved_all: list of length num_instances, each an array/list of top_k code strings\n",
    "    :param codes_ground_truth_all: list of length num_instances, each a single ground-truth code string\n",
    "    :return: two lists:\n",
    "        candidates:  [candidate_string_i, ...] (one per instance)\n",
    "        references:  [[ref_string_i], ...]     (list of lists; CodeBLEU can handle multiple references)\n",
    "    \"\"\"\n",
    "    candidates = []\n",
    "    references = []\n",
    "    num_instances = scores_raw_all.shape[0]\n",
    "\n",
    "    for i in range(num_instances):\n",
    "        # Find index of best-scoring snippet\n",
    "        best_index = np.argmax(scores_raw_all[i])\n",
    "        candidate_str = codes_retrieved_all[i][best_index]\n",
    "        reference_str = codes_ground_truth_all[i]\n",
    "\n",
    "        # (Optional) Tokenize, then re-join as a single string.\n",
    "        cand_tokens = tokenize_code(candidate_str)\n",
    "        ref_tokens  = tokenize_code(reference_str)\n",
    "        \n",
    "        # CodeBLEU typically expects each instance's references\n",
    "        # to be a list. If there's only one ground truth per instance,\n",
    "        # we wrap it in a one-element list: [ref].\n",
    "        candidates.append(\" \".join(cand_tokens))\n",
    "        references.append([\" \".join(ref_tokens)])\n",
    "\n",
    "    return candidates, references\n",
    "\n",
    "prediction, reference = prepare_candidates_and_references(scores_raw_all, codes_retrieved_all, codes_ground_truth_all)\n",
    "result = calc_codebleu([reference], [prediction], lang=\"python\", weights=(0.25, 0.25, 0.25, 0.25), tokenizer=None)\n",
    "print(result)\n"
   ]
  }
 ],
 "metadata": {
  "kernelspec": {
   "display_name": "anlp_RAG",
   "language": "python",
   "name": "python3"
  },
  "language_info": {
   "codemirror_mode": {
    "name": "ipython",
    "version": 3
   },
   "file_extension": ".py",
   "mimetype": "text/x-python",
   "name": "python",
   "nbconvert_exporter": "python",
   "pygments_lexer": "ipython3",
   "version": "3.9.21"
  }
 },
 "nbformat": 4,
 "nbformat_minor": 2
}
